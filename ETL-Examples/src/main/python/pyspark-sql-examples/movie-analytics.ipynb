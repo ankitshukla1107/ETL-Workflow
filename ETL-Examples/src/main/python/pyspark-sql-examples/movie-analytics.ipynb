{
 "cells": [
  {
   "cell_type": "code",
   "execution_count": 1,
   "metadata": {},
   "outputs": [],
   "source": [
    "from pyspark import SparkContext, SparkConf\n",
    "conf = SparkConf().setAppName(\"movie-analytics\")\n",
    "sc = SparkContext(conf=conf)"
   ]
  },
  {
   "cell_type": "code",
   "execution_count": 2,
   "metadata": {},
   "outputs": [
    {
     "name": "stdout",
     "output_type": "stream",
     "text": [
      "<pyspark.context.SparkContext object at 0x047CCBB0>\n"
     ]
    }
   ],
   "source": [
    "print(sc)"
   ]
  },
  {
   "cell_type": "code",
   "execution_count": 3,
   "metadata": {},
   "outputs": [
    {
     "name": "stdout",
     "output_type": "stream",
     "text": [
      "<pyspark.sql.context.SQLContext object at 0x04C14D90>\n"
     ]
    }
   ],
   "source": [
    "## Create an sql context\n",
    "from pyspark.sql import SQLContext\n",
    "import collections\n",
    "sqlContext = SQLContext(sc)\n",
    "print(sqlContext)"
   ]
  },
  {
   "cell_type": "code",
   "execution_count": 4,
   "metadata": {},
   "outputs": [
    {
     "name": "stdout",
     "output_type": "stream",
     "text": [
      "1 6110\n",
      "2 11370\n",
      "3 27145\n",
      "4 34174\n",
      "5 21201\n"
     ]
    }
   ],
   "source": [
    "# Data Definition:\n",
    "# Column 1: User ID\n",
    "# Column 2: Movie ID\n",
    "# Column 3: Rating\n",
    "# Column 4: Timestamp\n",
    "\n",
    "# calculate the number of movies that are rated on a scale of 1 to 5.\n",
    "my_lines = sc.textFile('E:/code/git-2018/ETL-Workflow/ETL-Examples/src/main/python/resources/movie-lens-data/ml-100k/u.data')\n",
    "ratings = my_lines.map(lambda x : x.split()[2])\n",
    "res = ratings.countByValue()\n",
    "my_sortedres = collections.OrderedDict(sorted(res.items()))\n",
    "for key,value in my_sortedres.items():\n",
    "    print (\"%s %i\" %(key,value))"
   ]
  },
  {
   "cell_type": "code",
   "execution_count": 5,
   "metadata": {
    "collapsed": true
   },
   "outputs": [],
   "source": [
    "# Read the tab separated file. Which contains userid, movieid, ratings and timestamp\n",
    "ratings = sqlContext.read.format(\"com.databricks.spark.csv\")\\\n",
    "          .options(delimiter='\\t')\\\n",
    "          .load('E:/code/git-2018/ETL-Workflow/ETL-Examples/src/main/python/resources/movie-lens-data/ml-100k/ratings.csv')"
   ]
  },
  {
   "cell_type": "code",
   "execution_count": 6,
   "metadata": {},
   "outputs": [
    {
     "data": {
      "text/plain": [
       "DataFrame[_c0: string, _c1: string, _c2: string, _c3: string]"
      ]
     },
     "execution_count": 6,
     "metadata": {},
     "output_type": "execute_result"
    }
   ],
   "source": [
    "# What is the data type of the ratings variable. It should be a dataframe.\n",
    "ratings"
   ]
  },
  {
   "cell_type": "code",
   "execution_count": 7,
   "metadata": {},
   "outputs": [
    {
     "name": "stdout",
     "output_type": "stream",
     "text": [
      "+---+----+---+---------+\n",
      "|_c0| _c1|_c2|      _c3|\n",
      "+---+----+---+---------+\n",
      "|196| 242|  3|881250949|\n",
      "|186| 302|  3|891717742|\n",
      "| 22| 377|  1|878887116|\n",
      "|244|  51|  2|880606923|\n",
      "|166| 346|  1|886397596|\n",
      "|298| 474|  4|884182806|\n",
      "|115| 265|  2|881171488|\n",
      "|253| 465|  5|891628467|\n",
      "|305| 451|  3|886324817|\n",
      "|  6|  86|  3|883603013|\n",
      "| 62| 257|  2|879372434|\n",
      "|286|1014|  5|879781125|\n",
      "|200| 222|  5|876042340|\n",
      "|210|  40|  3|891035994|\n",
      "|224|  29|  3|888104457|\n",
      "|303| 785|  3|879485318|\n",
      "|122| 387|  5|879270459|\n",
      "|194| 274|  2|879539794|\n",
      "|291|1042|  4|874834944|\n",
      "|234|1184|  2|892079237|\n",
      "+---+----+---+---------+\n",
      "only showing top 20 rows\n",
      "\n"
     ]
    }
   ],
   "source": [
    "# Displaying Records\n",
    "ratings.show()"
   ]
  },
  {
   "cell_type": "code",
   "execution_count": 8,
   "metadata": {},
   "outputs": [
    {
     "name": "stdout",
     "output_type": "stream",
     "text": [
      "root\n",
      " |-- _c0: string (nullable = true)\n",
      " |-- _c1: string (nullable = true)\n",
      " |-- _c2: string (nullable = true)\n",
      " |-- _c3: string (nullable = true)\n",
      "\n"
     ]
    }
   ],
   "source": [
    "# Describe the schema of the records\n",
    "ratings.printSchema()"
   ]
  },
  {
   "cell_type": "code",
   "execution_count": 9,
   "metadata": {},
   "outputs": [
    {
     "data": {
      "text/plain": [
       "StructType(List(StructField(_c0,StringType,true),StructField(_c1,StringType,true),StructField(_c2,StringType,true),StructField(_c3,StringType,true)))"
      ]
     },
     "execution_count": 9,
     "metadata": {},
     "output_type": "execute_result"
    }
   ],
   "source": [
    "ratings.schema"
   ]
  },
  {
   "cell_type": "code",
   "execution_count": 10,
   "metadata": {},
   "outputs": [],
   "source": [
    "# Apply a custom defined schema to the dataframe\n",
    "\n",
    "from pyspark.sql.types import *\n",
    "\n",
    "fields = [StructField(\"userid\", IntegerType(), True),\n",
    "        StructField(\"movieid\", IntegerType(), True),\n",
    "        StructField(\"rating\", IntegerType(), True),\n",
    "        StructField(\"timestamp\", LongType(), True)]"
   ]
  },
  {
   "cell_type": "code",
   "execution_count": 11,
   "metadata": {},
   "outputs": [],
   "source": [
    "# Applying the schema, while reading the records\n",
    "\n",
    "## Read the tab separated file. Which contains userid, movieid, ratings and timestamp\n",
    "ratings_df = sqlContext.read.format(\"com.databricks.spark.csv\")\\\n",
    "                            .options(delimiter='\\t')\\\n",
    "                            .load('E:/code/git-2018/ETL-Workflow/ETL-Examples/src/main/python/resources/movie-lens-data/ml-100k/ratings.csv',schema = StructType(fields))"
   ]
  },
  {
   "cell_type": "code",
   "execution_count": 12,
   "metadata": {},
   "outputs": [
    {
     "name": "stdout",
     "output_type": "stream",
     "text": [
      "+------+-------+------+---------+\n",
      "|userid|movieid|rating|timestamp|\n",
      "+------+-------+------+---------+\n",
      "|196   |242    |3     |881250949|\n",
      "|186   |302    |3     |891717742|\n",
      "|22    |377    |1     |878887116|\n",
      "|244   |51     |2     |880606923|\n",
      "|166   |346    |1     |886397596|\n",
      "+------+-------+------+---------+\n",
      "only showing top 5 rows\n",
      "\n"
     ]
    }
   ],
   "source": [
    "ratings_df.show(5, False)"
   ]
  },
  {
   "cell_type": "code",
   "execution_count": 13,
   "metadata": {},
   "outputs": [
    {
     "data": {
      "text/plain": [
       "DataFrame[userid: int, movieid: int, rating: int, timestamp: bigint]"
      ]
     },
     "execution_count": 13,
     "metadata": {},
     "output_type": "execute_result"
    }
   ],
   "source": [
    "# The RDD or DataFrame can be persisted in Memory\n",
    "\n",
    "ratings_df.persist()"
   ]
  },
  {
   "cell_type": "code",
   "execution_count": 14,
   "metadata": {},
   "outputs": [
    {
     "name": "stdout",
     "output_type": "stream",
     "text": [
      "root\n",
      " |-- userid: integer (nullable = true)\n",
      " |-- movieid: integer (nullable = true)\n",
      " |-- rating: integer (nullable = true)\n",
      " |-- timestamp: long (nullable = true)\n",
      "\n"
     ]
    }
   ],
   "source": [
    "ratings_df.printSchema()"
   ]
  },
  {
   "cell_type": "code",
   "execution_count": 15,
   "metadata": {},
   "outputs": [
    {
     "data": {
      "text/plain": [
       "['userid', 'movieid', 'rating', 'timestamp']"
      ]
     },
     "execution_count": 15,
     "metadata": {},
     "output_type": "execute_result"
    }
   ],
   "source": [
    "# Show the list of columns in the dataframe\n",
    "ratings_df.columns"
   ]
  },
  {
   "cell_type": "code",
   "execution_count": 16,
   "metadata": {},
   "outputs": [
    {
     "data": {
      "text/plain": [
       "100000"
      ]
     },
     "execution_count": 16,
     "metadata": {},
     "output_type": "execute_result"
    }
   ],
   "source": [
    "## How many records in the dataframe?\n",
    "ratings_df.count()"
   ]
  },
  {
   "cell_type": "code",
   "execution_count": 17,
   "metadata": {},
   "outputs": [],
   "source": [
    "# How to drop a column?\n",
    "ratings_df = ratings_df.drop('timestamp')"
   ]
  },
  {
   "cell_type": "code",
   "execution_count": 18,
   "metadata": {},
   "outputs": [
    {
     "name": "stdout",
     "output_type": "stream",
     "text": [
      "+------+-------+------+\n",
      "|userid|movieid|rating|\n",
      "+------+-------+------+\n",
      "|196   |242    |3     |\n",
      "|186   |302    |3     |\n",
      "|22    |377    |1     |\n",
      "|244   |51     |2     |\n",
      "|166   |346    |1     |\n",
      "+------+-------+------+\n",
      "only showing top 5 rows\n",
      "\n"
     ]
    }
   ],
   "source": [
    "ratings_df.show(5, False)"
   ]
  },
  {
   "cell_type": "code",
   "execution_count": 19,
   "metadata": {
    "collapsed": true
   },
   "outputs": [],
   "source": [
    "# Applying operations like groupby() and sort()\n",
    "movie_counts = ratings_df.groupBy(\"movieid\").count()"
   ]
  },
  {
   "cell_type": "code",
   "execution_count": 20,
   "metadata": {
    "collapsed": true
   },
   "outputs": [],
   "source": [
    "from pyspark.sql.functions import *\n",
    "movie_counts = movie_counts.sort(desc(\"count\"))"
   ]
  },
  {
   "cell_type": "code",
   "execution_count": 21,
   "metadata": {},
   "outputs": [
    {
     "name": "stdout",
     "output_type": "stream",
     "text": [
      "+-------+-----+\n",
      "|movieid|count|\n",
      "+-------+-----+\n",
      "|50     |583  |\n",
      "|258    |509  |\n",
      "|100    |508  |\n",
      "|181    |507  |\n",
      "|294    |485  |\n",
      "|286    |481  |\n",
      "|288    |478  |\n",
      "|1      |452  |\n",
      "|300    |431  |\n",
      "|121    |429  |\n",
      "+-------+-----+\n",
      "only showing top 10 rows\n",
      "\n"
     ]
    }
   ],
   "source": [
    "movie_counts.show(10, False)"
   ]
  },
  {
   "cell_type": "code",
   "execution_count": 22,
   "metadata": {
    "collapsed": true
   },
   "outputs": [],
   "source": [
    "# Applying an aggregation function to the group by\n",
    "avg_ratings = ratings_df.groupBy(\"movieid\").agg({\"rating\":\"avg\"})"
   ]
  },
  {
   "cell_type": "code",
   "execution_count": 23,
   "metadata": {},
   "outputs": [
    {
     "name": "stdout",
     "output_type": "stream",
     "text": [
      "+-------+------------------+\n",
      "|movieid|avg(rating)       |\n",
      "+-------+------------------+\n",
      "|496    |4.121212121212121 |\n",
      "|471    |3.6108597285067874|\n",
      "|463    |3.859154929577465 |\n",
      "|148    |3.203125          |\n",
      "|1342   |2.5               |\n",
      "|833    |3.204081632653061 |\n",
      "|1088   |2.230769230769231 |\n",
      "|1591   |3.1666666666666665|\n",
      "|1238   |3.125             |\n",
      "|1580   |1.0               |\n",
      "+-------+------------------+\n",
      "only showing top 10 rows\n",
      "\n"
     ]
    }
   ],
   "source": [
    "avg_ratings.show(10, False)"
   ]
  },
  {
   "cell_type": "code",
   "execution_count": 24,
   "metadata": {
    "collapsed": true
   },
   "outputs": [],
   "source": [
    "avg_ratings = avg_ratings.sort(desc(\"avg(rating)\"))"
   ]
  },
  {
   "cell_type": "code",
   "execution_count": 27,
   "metadata": {},
   "outputs": [
    {
     "name": "stdout",
     "output_type": "stream",
     "text": [
      "+-------+-----------+\n",
      "|movieid|avg(rating)|\n",
      "+-------+-----------+\n",
      "|814    |5.0        |\n",
      "|1536   |5.0        |\n",
      "|1467   |5.0        |\n",
      "|1293   |5.0        |\n",
      "|1500   |5.0        |\n",
      "|1599   |5.0        |\n",
      "|1122   |5.0        |\n",
      "|1201   |5.0        |\n",
      "|1653   |5.0        |\n",
      "|1189   |5.0        |\n",
      "+-------+-----------+\n",
      "only showing top 10 rows\n",
      "\n"
     ]
    }
   ],
   "source": [
    "avg_ratings.show(10, False)"
   ]
  },
  {
   "cell_type": "code",
   "execution_count": 28,
   "metadata": {
    "collapsed": true
   },
   "outputs": [],
   "source": [
    "# Joining multiple dataframes\n",
    "avg_ratings_count = avg_ratings.join( movie_counts,\n",
    "                                   avg_ratings.movieid == movie_counts.movieid ,\n",
    "                                   'inner' ).drop(movie_counts.movieid)"
   ]
  },
  {
   "cell_type": "code",
   "execution_count": 29,
   "metadata": {},
   "outputs": [
    {
     "name": "stdout",
     "output_type": "stream",
     "text": [
      "root\n",
      " |-- avg(rating): double (nullable = true)\n",
      " |-- movieid: integer (nullable = true)\n",
      " |-- count: long (nullable = false)\n",
      "\n"
     ]
    }
   ],
   "source": [
    "avg_ratings_count.printSchema()"
   ]
  },
  {
   "cell_type": "code",
   "execution_count": 30,
   "metadata": {
    "collapsed": true
   },
   "outputs": [],
   "source": [
    "# Renaming a column in a dataframe\n",
    "avg_ratings_count = avg_ratings_count.withColumnRenamed(\"avg(rating)\",\"mean_rating\" )"
   ]
  },
  {
   "cell_type": "code",
   "execution_count": 31,
   "metadata": {},
   "outputs": [
    {
     "name": "stdout",
     "output_type": "stream",
     "text": [
      "root\n",
      " |-- mean_rating: double (nullable = true)\n",
      " |-- movieid: integer (nullable = true)\n",
      " |-- count: long (nullable = false)\n",
      "\n"
     ]
    }
   ],
   "source": [
    "avg_ratings_count.printSchema()"
   ]
  },
  {
   "cell_type": "code",
   "execution_count": 32,
   "metadata": {
    "collapsed": true
   },
   "outputs": [],
   "source": [
    "avg_ratings_count = avg_ratings_count\\\n",
    "                    .withColumn(\"mean_rating\",\n",
    "                              round(avg_ratings_count[\"mean_rating\"]\n",
    "                                    ,2))"
   ]
  },
  {
   "cell_type": "code",
   "execution_count": 33,
   "metadata": {
    "collapsed": true
   },
   "outputs": [],
   "source": [
    "avg_ratings_count = avg_ratings_count.sort(desc(\"mean_rating\"))"
   ]
  },
  {
   "cell_type": "code",
   "execution_count": 36,
   "metadata": {},
   "outputs": [
    {
     "name": "stdout",
     "output_type": "stream",
     "text": [
      "+-----------+-------+-----+\n",
      "|mean_rating|movieid|count|\n",
      "+-----------+-------+-----+\n",
      "|5.0        |1500   |2    |\n",
      "|5.0        |1201   |1    |\n",
      "|5.0        |1599   |1    |\n",
      "|5.0        |1122   |1    |\n",
      "|5.0        |1467   |2    |\n",
      "|5.0        |1189   |3    |\n",
      "|5.0        |1293   |3    |\n",
      "|5.0        |1536   |1    |\n",
      "|5.0        |814    |1    |\n",
      "|5.0        |1653   |1    |\n",
      "+-----------+-------+-----+\n",
      "only showing top 10 rows\n",
      "\n"
     ]
    }
   ],
   "source": [
    "avg_ratings_count.show(10, False)"
   ]
  },
  {
   "cell_type": "code",
   "execution_count": 37,
   "metadata": {
    "collapsed": true
   },
   "outputs": [],
   "source": [
    "# Filtering records in a dataframe based on a criteria\n",
    "avg_ratings_count = avg_ratings_count.filter(avg_ratings_count[\"count\"] > 20)"
   ]
  },
  {
   "cell_type": "code",
   "execution_count": 38,
   "metadata": {
    "collapsed": true
   },
   "outputs": [],
   "source": [
    "avg_ratings_count = avg_ratings_count.sort(desc(\"mean_rating\") ,desc(\"count\"))"
   ]
  },
  {
   "cell_type": "code",
   "execution_count": 39,
   "metadata": {},
   "outputs": [
    {
     "name": "stdout",
     "output_type": "stream",
     "text": [
      "+-----------+-------+-----+\n",
      "|mean_rating|movieid|count|\n",
      "+-----------+-------+-----+\n",
      "|4.49       |408    |112  |\n",
      "|4.47       |318    |298  |\n",
      "|4.47       |169    |118  |\n",
      "|4.46       |483    |243  |\n",
      "|4.45       |64     |283  |\n",
      "|4.45       |114    |67   |\n",
      "|4.39       |12     |267  |\n",
      "|4.39       |603    |209  |\n",
      "|4.36       |50     |583  |\n",
      "|4.34       |178    |125  |\n",
      "|4.33       |513    |72   |\n",
      "|4.29       |98     |390  |\n",
      "|4.29       |357    |264  |\n",
      "|4.29       |427    |219  |\n",
      "|4.29       |134    |198  |\n",
      "|4.29       |963    |41   |\n",
      "|4.28       |127    |413  |\n",
      "|4.28       |480    |179  |\n",
      "|4.27       |285    |162  |\n",
      "|4.26       |272    |198  |\n",
      "|4.26       |657    |131  |\n",
      "|4.26       |251    |46   |\n",
      "|4.25       |174    |420  |\n",
      "|4.25       |313    |350  |\n",
      "|4.25       |474    |194  |\n",
      "|4.25       |479    |179  |\n",
      "|4.23       |511    |173  |\n",
      "|4.21       |484    |138  |\n",
      "|4.21       |641    |33   |\n",
      "|4.2        |172    |367  |\n",
      "|4.2        |515    |201  |\n",
      "|4.2        |223    |136  |\n",
      "|4.2        |316    |112  |\n",
      "|4.2        |488    |65   |\n",
      "|4.19       |187    |209  |\n",
      "|4.19       |966    |26   |\n",
      "|4.18       |199    |165  |\n",
      "|4.18       |498    |152  |\n",
      "|4.17       |173    |324  |\n",
      "|4.17       |170    |121  |\n",
      "|4.16       |100    |508  |\n",
      "|4.16       |302    |297  |\n",
      "|4.16       |191    |276  |\n",
      "|4.16       |923    |58   |\n",
      "|4.15       |22     |297  |\n",
      "|4.15       |493    |60   |\n",
      "|4.14       |89     |275  |\n",
      "|4.14       |654    |147  |\n",
      "|4.14       |190    |124  |\n",
      "|4.13       |528    |121  |\n",
      "|4.13       |1007   |47   |\n",
      "|4.12       |496    |231  |\n",
      "|4.12       |23     |182  |\n",
      "|4.12       |192    |116  |\n",
      "|4.12       |136    |105  |\n",
      "|4.12       |478    |104  |\n",
      "|4.12       |166    |58   |\n",
      "|4.12       |489    |52   |\n",
      "|4.11       |189    |66   |\n",
      "|4.11       |165    |64   |\n",
      "|4.1        |185    |239  |\n",
      "|4.1        |197    |239  |\n",
      "|4.1        |315    |160  |\n",
      "|4.1        |520    |124  |\n",
      "|4.1        |661    |88   |\n",
      "|4.1        |519    |80   |\n",
      "|4.1        |647    |70   |\n",
      "|4.1        |487    |68   |\n",
      "|4.1        |611    |40   |\n",
      "|4.09       |48     |117  |\n",
      "|4.08       |132    |246  |\n",
      "|4.08       |651    |171  |\n",
      "|4.08       |659    |115  |\n",
      "|4.07       |168    |316  |\n",
      "|4.06       |56     |394  |\n",
      "|4.06       |194    |241  |\n",
      "|4.06       |83     |176  |\n",
      "|4.06       |59     |83   |\n",
      "|4.06       |633    |69   |\n",
      "|4.06       |1194   |31   |\n",
      "|4.05       |180    |221  |\n",
      "|4.05       |124    |187  |\n",
      "|4.05       |45     |80   |\n",
      "|4.05       |606    |66   |\n",
      "|4.05       |615    |59   |\n",
      "|4.05       |1142   |44   |\n",
      "|4.05       |694    |44   |\n",
      "|4.05       |1203   |21   |\n",
      "|4.04       |79     |336  |\n",
      "|4.04       |613    |27   |\n",
      "|4.03       |183    |291  |\n",
      "|4.03       |709    |104  |\n",
      "|4.03       |530    |80   |\n",
      "|4.03       |525    |73   |\n",
      "|4.03       |648    |67   |\n",
      "|4.02       |527    |195  |\n",
      "|4.02       |60     |64   |\n",
      "|4.02       |490    |50   |\n",
      "|4.02       |524    |46   |\n",
      "|4.02       |589    |43   |\n",
      "+-----------+-------+-----+\n",
      "only showing top 100 rows\n",
      "\n"
     ]
    }
   ],
   "source": [
    "avg_ratings_count.show(100, False)"
   ]
  }
 ],
 "metadata": {
  "kernelspec": {
   "display_name": "Python 3",
   "language": "python",
   "name": "python3"
  },
  "language_info": {
   "codemirror_mode": {
    "name": "ipython",
    "version": 3
   },
   "file_extension": ".py",
   "mimetype": "text/x-python",
   "name": "python",
   "nbconvert_exporter": "python",
   "pygments_lexer": "ipython3",
   "version": "3.6.1"
  }
 },
 "nbformat": 4,
 "nbformat_minor": 2
}
