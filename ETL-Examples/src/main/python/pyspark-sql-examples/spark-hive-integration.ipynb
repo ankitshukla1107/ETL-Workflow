{
 "cells": [
  {
   "cell_type": "code",
   "execution_count": null,
   "metadata": {},
   "outputs": [],
   "source": [
    "from os.path import expanduser, join, abspath\n",
    "\n",
    "from pyspark.sql import SparkSession\n",
    "from pyspark.sql import Row\n",
    "\n",
    "warehouse_location = abspath('spark-warehouse')\n",
    "\n",
    "spark = SparkSession \\\n",
    "        .builder \\\n",
    "        .appName(\"Python Spark SQL Hive integration example\") \\\n",
    "        .config(\"spark.sql.warehouse.dir\", warehouse_location) \\\n",
    "        .enableHiveSupport() \\\n",
    "        .getOrCreate()\n",
    "        \n",
    "# spark is an existing SparkSession\n",
    "spark.sql(\"CREATE TABLE IF NOT EXISTS src (key INT, value STRING) USING hive\")\n",
    "spark.sql(\"LOAD DATA LOCAL INPATH 'file:/E:/code/git-2018/ETL-Workflow/ETL-Examples/src/main/python/resources/kv1.txt' INTO TABLE src\")"
   ]
  },
  {
   "cell_type": "code",
   "execution_count": null,
   "metadata": {
    "collapsed": true
   },
   "outputs": [],
   "source": [
    "# Queries are expressed in HiveQL\n",
    "spark.sql(\"SELECT * FROM src\").show()\n",
    "    # +---+-------+\n",
    "    # |key|  value|\n",
    "    # +---+-------+\n",
    "    # |238|val_238|\n",
    "    # | 86| val_86|\n",
    "    # |311|val_311|\n",
    "    # ...\n",
    "\n",
    "# Aggregation queries are also supported.\n",
    "spark.sql(\"SELECT COUNT(*) FROM src\").show()\n",
    "    # +--------+\n",
    "    # |count(1)|\n",
    "    # +--------+\n",
    "    # |    500 |\n",
    "    # +--------+\n",
    "\n",
    "# The results of SQL queries are themselves DataFrames and support all normal functions.\n",
    "sqlDF = spark.sql(\"SELECT key, value FROM src WHERE key < 10 ORDER BY key\")\n",
    "\n",
    "# The items in DataFrames are of type Row, which allows you to access each column by ordinal.\n",
    "stringsDS = sqlDF.rdd.map(lambda row: \"Key: %d, Value: %s\" % (row.key, row.value))\n",
    "for record in stringsDS.collect():\n",
    "    print(record)\n",
    "    # Key: 0, Value: val_0\n",
    "    # Key: 0, Value: val_0\n",
    "    # Key: 0, Value: val_0\n",
    "    # ...\n",
    "\n",
    "    # You can also use DataFrames to create temporary views within a SparkSession.\n",
    "Record = Row(\"key\", \"value\")\n",
    "recordsDF = spark.createDataFrame([Record(i, \"val_\" + str(i)) for i in range(1, 101)])\n",
    "recordsDF.createOrReplaceTempView(\"records\")\n",
    "\n",
    "# Queries can then join DataFrame data with data stored in Hive.\n",
    "spark.sql(\"SELECT * FROM records r JOIN src s ON r.key = s.key\").show()\n",
    "    # +---+------+---+------+\n",
    "    # |key| value|key| value|\n",
    "    # +---+------+---+------+\n",
    "    # |  2| val_2|  2| val_2|\n",
    "    # |  4| val_4|  4| val_4|\n",
    "    # |  5| val_5|  5| val_5|\n",
    "    # ...\n",
    "    # $example off:spark_hive$\n",
    "\n",
    "spark.stop()"
   ]
  },
  {
   "cell_type": "code",
   "execution_count": null,
   "metadata": {
    "collapsed": true
   },
   "outputs": [],
   "source": []
  }
 ],
 "metadata": {
  "kernelspec": {
   "display_name": "Python 3",
   "language": "python",
   "name": "python3"
  },
  "language_info": {
   "codemirror_mode": {
    "name": "ipython",
    "version": 3
   },
   "file_extension": ".py",
   "mimetype": "text/x-python",
   "name": "python",
   "nbconvert_exporter": "python",
   "pygments_lexer": "ipython3",
   "version": "3.6.1"
  }
 },
 "nbformat": 4,
 "nbformat_minor": 2
}
